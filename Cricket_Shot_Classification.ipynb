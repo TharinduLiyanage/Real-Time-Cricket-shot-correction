{
 "cells": [
  {
   "attachments": {},
   "cell_type": "markdown",
   "metadata": {},
   "source": [
    "# 1. Install and Import Dependencies"
   ]
  },
  {
   "cell_type": "code",
   "execution_count": null,
   "metadata": {},
   "outputs": [],
   "source": [
    "%pip install mediapipe opencv-python pandas scikit-learn"
   ]
  },
  {
   "cell_type": "code",
   "execution_count": 386,
   "metadata": {},
   "outputs": [],
   "source": [
    "import mediapipe as mp # Import mediapipe\n",
    "import cv2 # Import opencv\n",
    "import csv\n",
    "import os\n",
    "import numpy as np"
   ]
  },
  {
   "cell_type": "code",
   "execution_count": 387,
   "metadata": {},
   "outputs": [],
   "source": [
    "mp_drawing = mp.solutions.drawing_utils # Drawing helpers\n",
    "mp_holistic = mp.solutions.holistic # Mediapipe Solutions"
   ]
  },
  {
   "attachments": {},
   "cell_type": "markdown",
   "metadata": {},
   "source": [
    "# 2. Capture Landmarks & Export to CSV\n",
    "<!-- <img src=\"https://i.imgur.com/AzKNp7A.png\">--> "
   ]
  },
  {
   "cell_type": "code",
   "execution_count": 388,
   "metadata": {},
   "outputs": [],
   "source": [
    "landmarks = ['class']\n",
    "for val in range(1, 33+1):\n",
    "    landmarks += ['x{}'.format(val), 'y{}'.format(val), 'z{}'.format(val), 'v{}'.format(val)]"
   ]
  },
  {
   "cell_type": "code",
   "execution_count": 389,
   "metadata": {},
   "outputs": [],
   "source": [
    "with open('Foot.csv', mode='w', newline='') as f:\n",
    "    csv_writer = csv.writer(f, delimiter=',', quotechar='\"', quoting=csv.QUOTE_MINIMAL)\n",
    "    csv_writer.writerow(landmarks)"
   ]
  },
  {
   "cell_type": "code",
   "execution_count": 480,
   "metadata": {},
   "outputs": [],
   "source": [
    "class_name = \"Incorrect\" #dataset path"
   ]
  },
  {
   "cell_type": "code",
   "execution_count": 481,
   "metadata": {},
   "outputs": [],
   "source": [
    "\n",
    "# cap = cv2.imread(\"Stance\")\n",
    "\n",
    "directory = \"images/Stance/no\"\n",
    "with mp_holistic.Holistic(min_detection_confidence=0.5, min_tracking_confidence=0.5) as holistic:\n",
    "    \n",
    "   for filename in os.listdir(directory):\n",
    "        if filename.endswith(\".jpg\") or filename.endswith(\".png\") or filename.endswith(\".JPG\"):\n",
    "            # Load the image\n",
    "            image = cv2.imread(os.path.join(directory, filename))\n",
    "\n",
    "            # Recolor Feed\n",
    "            image = cv2.cvtColor(image, cv2.COLOR_BGR2RGB)\n",
    "            image.flags.writeable = False        \n",
    "\n",
    "            # Make Detections\n",
    "            results = holistic.process(image)\n",
    "            # print(results.face_landmarks)\n",
    "\n",
    "            # face_landmarks, pose_landmarks, left_hand_landmarks, right_hand_landmarks\n",
    "\n",
    "            # Recolor image back to BGR for rendering\n",
    "            image.flags.writeable = True   \n",
    "            image = cv2.cvtColor(image, cv2.COLOR_RGB2BGR) \n",
    "        \n",
    "     \n",
    "\n",
    "        # Pose Detections\n",
    "        mp_drawing.draw_landmarks(image, results.pose_landmarks, mp_holistic.POSE_CONNECTIONS, \n",
    "                                 mp_drawing.DrawingSpec(color=(245,117,66), thickness=2, circle_radius=4),\n",
    "                                 mp_drawing.DrawingSpec(color=(245,66,230), thickness=2, circle_radius=2)\n",
    "                                 )\n",
    "        # Export coordinates\n",
    "        try:\n",
    "            # Extract Pose landmarks\n",
    "            pose = results.pose_landmarks.landmark\n",
    "            pose_row = list(np.array([[landmark.x, landmark.y, landmark.z, landmark.visibility] for landmark in pose]).flatten())\n",
    "            \n",
    "            # Extract Face landmarks\n",
    "            # face = results.face_landmarks.landmark\n",
    "            # face_row = list(np.array([[landmark.x, landmark.y, landmark.z, landmark.visibility] for landmark in face]).flatten())\n",
    "            \n",
    "            # Concate rows\n",
    "            row = pose_row\n",
    "            \n",
    "            # Append class name \n",
    "            row.insert(0, class_name)\n",
    "            \n",
    "            # Export to CSV\n",
    "            with open('Foot.csv', mode='a', newline='') as f:\n",
    "                csv_writer = csv.writer(f, delimiter=',', quotechar='\"', quoting=csv.QUOTE_MINIMAL)\n",
    "                csv_writer.writerow(row) \n",
    "            \n",
    "        except:\n",
    "            pass\n",
    "                        \n",
    "        \n",
    "     \n",
    "        \n",
    "cv2.destroyAllWindows()"
   ]
  },
  {
   "cell_type": "markdown",
   "metadata": {},
   "source": [
    "# 3. Train Custom Model Using Scikit Learn"
   ]
  },
  {
   "cell_type": "markdown",
   "metadata": {},
   "source": [
    "## 3.1 Read in Collected Data and Process"
   ]
  },
  {
   "cell_type": "code",
   "execution_count": 504,
   "metadata": {},
   "outputs": [],
   "source": [
    "import pandas as pd\n",
    "from sklearn.model_selection import train_test_split"
   ]
  },
  {
   "cell_type": "code",
   "execution_count": 505,
   "metadata": {},
   "outputs": [],
   "source": [
    "df = pd.read_csv('Foot.csv')"
   ]
  },
  {
   "cell_type": "code",
   "execution_count": 506,
   "metadata": {},
   "outputs": [],
   "source": [
    "X = df.drop('class', axis=1) # features\n",
    "y = df['class'] # target value"
   ]
  },
  {
   "cell_type": "code",
   "execution_count": 507,
   "metadata": {},
   "outputs": [],
   "source": [
    "X_train, X_test, y_train, y_test = train_test_split(X, y, test_size=0.3, random_state=1234)\n"
   ]
  },
  {
   "cell_type": "markdown",
   "metadata": {},
   "source": [
    "## 3.2 Train Machine Learning Classification Model"
   ]
  },
  {
   "cell_type": "code",
   "execution_count": 508,
   "metadata": {},
   "outputs": [],
   "source": [
    "from sklearn.pipeline import make_pipeline \n",
    "from sklearn.preprocessing import StandardScaler \n",
    "from sklearn.linear_model import LogisticRegression, RidgeClassifier\n",
    "from sklearn.ensemble import RandomForestClassifier, GradientBoostingClassifier"
   ]
  },
  {
   "cell_type": "code",
   "execution_count": 509,
   "metadata": {},
   "outputs": [],
   "source": [
    "pipelines = {\n",
    "    'lr':make_pipeline(StandardScaler(), LogisticRegression()),\n",
    "    'rc':make_pipeline(StandardScaler(), RidgeClassifier()),\n",
    "    'rf':make_pipeline(StandardScaler(), RandomForestClassifier()),\n",
    "    'gb':make_pipeline(StandardScaler(), GradientBoostingClassifier()),\n",
    "}"
   ]
  },
  {
   "cell_type": "code",
   "execution_count": 510,
   "metadata": {},
   "outputs": [],
   "source": [
    "fit_models = {}\n",
    "for algo, pipeline in pipelines.items():\n",
    "    model = pipeline.fit(X_train, y_train)\n",
    "    fit_models[algo] = model"
   ]
  },
  {
   "cell_type": "code",
   "execution_count": 511,
   "metadata": {},
   "outputs": [
    {
     "data": {
      "text/plain": [
       "{'lr': Pipeline(steps=[('standardscaler', StandardScaler()),\n",
       "                 ('logisticregression', LogisticRegression())]),\n",
       " 'rc': Pipeline(steps=[('standardscaler', StandardScaler()),\n",
       "                 ('ridgeclassifier', RidgeClassifier())]),\n",
       " 'rf': Pipeline(steps=[('standardscaler', StandardScaler()),\n",
       "                 ('randomforestclassifier', RandomForestClassifier())]),\n",
       " 'gb': Pipeline(steps=[('standardscaler', StandardScaler()),\n",
       "                 ('gradientboostingclassifier', GradientBoostingClassifier())])}"
      ]
     },
     "execution_count": 511,
     "metadata": {},
     "output_type": "execute_result"
    }
   ],
   "source": [
    "fit_models"
   ]
  },
  {
   "cell_type": "code",
   "execution_count": 512,
   "metadata": {},
   "outputs": [
    {
     "data": {
      "text/plain": [
       "array(['Foot', 'Foot', 'Foot', 'Foot', 'Foot', 'Foot', 'Foot', 'Foot',\n",
       "       'Foot', 'Foot', 'Foot', 'Foot', 'Foot', 'Foot', 'Foot', 'Foot',\n",
       "       'Foot', 'Foot', 'Foot', 'Foot', 'Foot', 'Foot', 'Foot', 'Foot',\n",
       "       'Foot', 'Foot', 'Foot', 'Foot', 'Foot', 'Foot', 'Foot', 'Foot',\n",
       "       'Foot', 'Foot', 'Foot', 'Foot', 'Foot', 'Foot', 'Foot', 'Foot',\n",
       "       'Foot', 'Foot', 'Foot', 'Foot', 'Foot', 'Foot', 'Foot', 'Foot',\n",
       "       'Foot', 'Foot', 'Foot', 'Foot', 'Foot', 'Foot', 'Foot', 'Foot',\n",
       "       'Foot', 'Foot', 'Foot', 'Foot', 'Foot', 'Foot', 'Foot', 'Foot',\n",
       "       'Foot', 'Foot', 'Foot', 'Foot', 'Foot', 'Foot', 'Foot', 'Foot',\n",
       "       'Foot', 'Foot', 'Foot', 'Foot', 'Foot', 'Foot', 'Foot', 'Foot',\n",
       "       'Foot', 'Foot', 'Foot', 'Foot', 'Foot', 'Foot', 'Foot', 'Foot',\n",
       "       'Foot', 'Foot', 'Foot', 'Foot', 'Foot', 'Foot', 'Foot', 'Foot',\n",
       "       'Foot', 'Foot', 'Foot', 'Foot', 'Foot', 'Foot', 'Foot', 'Foot',\n",
       "       'Foot', 'Foot', 'Foot', 'Foot', 'Foot', 'Foot', 'Foot', 'Foot',\n",
       "       'Foot', 'Foot', 'Foot', 'Foot', 'Foot', 'Foot', 'Foot', 'Foot',\n",
       "       'Foot', 'Foot', 'Foot', 'Foot', 'Foot', 'Foot', 'Foot', 'Foot',\n",
       "       'Foot', 'Foot', 'Foot', 'Foot', 'Foot', 'Foot', 'Foot', 'Foot',\n",
       "       'Foot', 'Foot', 'Foot', 'Foot', 'Foot', 'Foot', 'Foot', 'Foot',\n",
       "       'Foot', 'Foot', 'Foot', 'Foot', 'Foot', 'Foot', 'Foot', 'Foot',\n",
       "       'Foot', 'Foot', 'Foot', 'Foot', 'Foot', 'Foot', 'Foot', 'Foot',\n",
       "       'Foot', 'Foot', 'Foot', 'Foot', 'Foot', 'Foot', 'Foot', 'Foot',\n",
       "       'Foot', 'Foot', 'Foot', 'Foot', 'Foot', 'Foot', 'Foot', 'Foot',\n",
       "       'Foot', 'Foot', 'Foot', 'Foot', 'Foot', 'Foot', 'Foot', 'Foot',\n",
       "       'Foot', 'Foot', 'Foot', 'Foot', 'Foot', 'Foot', 'Foot', 'Foot',\n",
       "       'Foot', 'Foot', 'Foot', 'Foot', 'Foot', 'Foot', 'Foot', 'Foot',\n",
       "       'Foot', 'Foot', 'Foot', 'Foot', 'Foot', 'Foot', 'Foot', 'Foot',\n",
       "       'Foot', 'Foot', 'Foot', 'Foot', 'Foot', 'Foot', 'Foot', 'Foot',\n",
       "       'Foot', 'Foot', 'Foot', 'Foot', 'Foot', 'Foot', 'Foot', 'Foot',\n",
       "       'Foot', 'Foot', 'Foot', 'Foot', 'Foot', 'Foot', 'Foot', 'Foot',\n",
       "       'Foot', 'Foot', 'Foot', 'Foot', 'Foot', 'Foot', 'Foot', 'Foot',\n",
       "       'Foot', 'Foot', 'Foot', 'Foot', 'Foot', 'Foot', 'Foot', 'Foot',\n",
       "       'Foot', 'Foot', 'Foot', 'Foot', 'Foot', 'Foot', 'Foot', 'Foot',\n",
       "       'Foot', 'Foot', 'Foot', 'Foot', 'Foot', 'Foot', 'Foot', 'Foot',\n",
       "       'Foot', 'Foot', 'Foot', 'Foot', 'Foot', 'Foot', 'Foot', 'Foot',\n",
       "       'Foot', 'Foot', 'Foot', 'Foot', 'Foot', 'Foot', 'Foot', 'Foot',\n",
       "       'Foot', 'Foot', 'Foot', 'Foot', 'Foot', 'Foot', 'Foot', 'Foot',\n",
       "       'Foot', 'Foot', 'Foot', 'Foot', 'Foot', 'Foot', 'Foot', 'Foot',\n",
       "       'Foot', 'Foot', 'Foot', 'Foot', 'Foot', 'Foot', 'Foot', 'Foot',\n",
       "       'Foot', 'Foot', 'Foot', 'Foot', 'Foot', 'Foot', 'Foot', 'Foot',\n",
       "       'Foot', 'Foot', 'Foot', 'Foot', 'Foot', 'Foot', 'Foot', 'Foot',\n",
       "       'Foot', 'Foot', 'Foot', 'Foot', 'Foot', 'Foot', 'Foot', 'Foot',\n",
       "       'Foot', 'Foot', 'Foot', 'Foot', 'Foot', 'Foot', 'Foot', 'Foot',\n",
       "       'Foot', 'Foot', 'Foot', 'Foot', 'Foot', 'Foot', 'Foot', 'Foot',\n",
       "       'Foot', 'Foot', 'Foot', 'Foot', 'Foot', 'Foot', 'Foot', 'Foot',\n",
       "       'Foot', 'Foot', 'Foot', 'Foot', 'Foot', 'Foot', 'Foot', 'Foot',\n",
       "       'Foot', 'Foot', 'Foot', 'Foot', 'Foot', 'Foot', 'Foot', 'Foot',\n",
       "       'Foot', 'Foot', 'Foot', 'Foot', 'Foot', 'Foot', 'Foot', 'Foot',\n",
       "       'Foot', 'Foot', 'Foot', 'Foot', 'Foot', 'Foot', 'Foot', 'Foot',\n",
       "       'Foot', 'Foot', 'Foot', 'Foot', 'Foot', 'Foot', 'Foot', 'Foot',\n",
       "       'Foot', 'Foot', 'Foot', 'Foot', 'Foot', 'Foot', 'Foot', 'Foot',\n",
       "       'Foot', 'Foot', 'Foot', 'Foot', 'Foot', 'Foot', 'Foot', 'Foot',\n",
       "       'Foot', 'Foot', 'Foot', 'Foot', 'Foot', 'Foot', 'Foot', 'Foot',\n",
       "       'Foot', 'Foot', 'Foot', 'Foot', 'Foot', 'Foot', 'Foot', 'Foot',\n",
       "       'Foot', 'Foot', 'Foot', 'Foot', 'Foot', 'Foot', 'Foot', 'Foot',\n",
       "       'Foot', 'Foot', 'Foot', 'Foot', 'Foot', 'Foot', 'Foot', 'Foot',\n",
       "       'Foot', 'Foot', 'Foot', 'Foot', 'Foot', 'Foot', 'Foot', 'Foot',\n",
       "       'Foot', 'Foot', 'Foot', 'Foot', 'Foot', 'Foot', 'Foot', 'Foot',\n",
       "       'Foot', 'Foot', 'Foot', 'Foot', 'Foot', 'Foot', 'Foot', 'Foot',\n",
       "       'Foot', 'Foot', 'Foot', 'Foot', 'Foot', 'Foot', 'Foot', 'Foot',\n",
       "       'Foot', 'Foot', 'Foot', 'Foot', 'Foot', 'Foot', 'Foot', 'Foot',\n",
       "       'Foot', 'Foot', 'Foot', 'Foot', 'Foot', 'Foot', 'Foot', 'Foot',\n",
       "       'Foot', 'Foot', 'Foot', 'Foot', 'Foot', 'Foot', 'Foot', 'Foot',\n",
       "       'Foot', 'Foot', 'Foot'], dtype='<U9')"
      ]
     },
     "execution_count": 512,
     "metadata": {},
     "output_type": "execute_result"
    }
   ],
   "source": [
    "fit_models['rc'].predict(X_test)"
   ]
  },
  {
   "cell_type": "markdown",
   "metadata": {},
   "source": [
    "## 3.3 Evaluate and Serialize Model "
   ]
  },
  {
   "cell_type": "code",
   "execution_count": 513,
   "metadata": {},
   "outputs": [],
   "source": [
    "from sklearn.metrics import accuracy_score # Accuracy metrics \n",
    "import pickle "
   ]
  },
  {
   "cell_type": "code",
   "execution_count": 514,
   "metadata": {},
   "outputs": [
    {
     "name": "stdout",
     "output_type": "stream",
     "text": [
      "lr 1.0\n",
      "rc 1.0\n",
      "rf 1.0\n",
      "gb 0.9859719438877755\n"
     ]
    }
   ],
   "source": [
    "for algo, model in fit_models.items():\n",
    "    yhat = model.predict(X_test)\n",
    "    print(algo, accuracy_score(y_test, yhat))"
   ]
  },
  {
   "cell_type": "code",
   "execution_count": 515,
   "metadata": {},
   "outputs": [
    {
     "data": {
      "text/plain": [
       "array(['Foot', 'Foot', 'Foot', 'Foot', 'Foot', 'Foot', 'Foot', 'Foot',\n",
       "       'Foot', 'Foot', 'Foot', 'Foot', 'Foot', 'Foot', 'Foot', 'Foot',\n",
       "       'Foot', 'Foot', 'Foot', 'Foot', 'Foot', 'Foot', 'Foot', 'Foot',\n",
       "       'Foot', 'Foot', 'Foot', 'Foot', 'Foot', 'Foot', 'Foot', 'Foot',\n",
       "       'Foot', 'Foot', 'Foot', 'Foot', 'Foot', 'Foot', 'Foot', 'Foot',\n",
       "       'Foot', 'Foot', 'Foot', 'Foot', 'Foot', 'Foot', 'Foot', 'Foot',\n",
       "       'Foot', 'Foot', 'Foot', 'Foot', 'Foot', 'Foot', 'Foot', 'Foot',\n",
       "       'Foot', 'Foot', 'Foot', 'Foot', 'Foot', 'Foot', 'Foot', 'Foot',\n",
       "       'Foot', 'Foot', 'Foot', 'Foot', 'Foot', 'Foot', 'Foot', 'Foot',\n",
       "       'Foot', 'Foot', 'Foot', 'Foot', 'Foot', 'Foot', 'Foot', 'Foot',\n",
       "       'Foot', 'Foot', 'Foot', 'Foot', 'Foot', 'Foot', 'Foot', 'Foot',\n",
       "       'Foot', 'Foot', 'Foot', 'Foot', 'Foot', 'Foot', 'Foot', 'Foot',\n",
       "       'Foot', 'Foot', 'Foot', 'Foot', 'Foot', 'Foot', 'Foot', 'Foot',\n",
       "       'Foot', 'Foot', 'Foot', 'Foot', 'Foot', 'Foot', 'Foot', 'Foot',\n",
       "       'Foot', 'Foot', 'Foot', 'Foot', 'Foot', 'Foot', 'Foot', 'Foot',\n",
       "       'Foot', 'Foot', 'Foot', 'Foot', 'Foot', 'Foot', 'Foot', 'Foot',\n",
       "       'Foot', 'Foot', 'Foot', 'Foot', 'Foot', 'Foot', 'Foot', 'Foot',\n",
       "       'Foot', 'Foot', 'Foot', 'Foot', 'Foot', 'Foot', 'Foot', 'Foot',\n",
       "       'Foot', 'Foot', 'Foot', 'Foot', 'Foot', 'Foot', 'Foot', 'Foot',\n",
       "       'Foot', 'Foot', 'Foot', 'Foot', 'Foot', 'Foot', 'Foot', 'Foot',\n",
       "       'Foot', 'Foot', 'Foot', 'Foot', 'Foot', 'Foot', 'Foot', 'Foot',\n",
       "       'Foot', 'Foot', 'Foot', 'Foot', 'Foot', 'Foot', 'Foot', 'Foot',\n",
       "       'Foot', 'Foot', 'Foot', 'Foot', 'Foot', 'Foot', 'Foot', 'Foot',\n",
       "       'Foot', 'Foot', 'Foot', 'Foot', 'Foot', 'Foot', 'Foot', 'Foot',\n",
       "       'Foot', 'Foot', 'Foot', 'Foot', 'Foot', 'Foot', 'Foot', 'Foot',\n",
       "       'Foot', 'Foot', 'Foot', 'Foot', 'Foot', 'Foot', 'Foot', 'Foot',\n",
       "       'Foot', 'Foot', 'Foot', 'Foot', 'Foot', 'Foot', 'Foot', 'Foot',\n",
       "       'Foot', 'Foot', 'Foot', 'Foot', 'Foot', 'Foot', 'Foot', 'Foot',\n",
       "       'Foot', 'Foot', 'Foot', 'Foot', 'Foot', 'Foot', 'Foot', 'Foot',\n",
       "       'Foot', 'Foot', 'Foot', 'Foot', 'Foot', 'Foot', 'Foot', 'Foot',\n",
       "       'Foot', 'Foot', 'Foot', 'Foot', 'Foot', 'Foot', 'Foot', 'Foot',\n",
       "       'Foot', 'Foot', 'Foot', 'Foot', 'Foot', 'Foot', 'Foot', 'Foot',\n",
       "       'Foot', 'Foot', 'Foot', 'Foot', 'Foot', 'Foot', 'Foot', 'Foot',\n",
       "       'Foot', 'Foot', 'Foot', 'Foot', 'Foot', 'Foot', 'Foot', 'Foot',\n",
       "       'Foot', 'Foot', 'Foot', 'Foot', 'Foot', 'Foot', 'Foot', 'Foot',\n",
       "       'Foot', 'Foot', 'Foot', 'Foot', 'Foot', 'Foot', 'Foot', 'Foot',\n",
       "       'Foot', 'Foot', 'Foot', 'Foot', 'Foot', 'Foot', 'Foot', 'Foot',\n",
       "       'Foot', 'Foot', 'Foot', 'Foot', 'Foot', 'Foot', 'Foot', 'Foot',\n",
       "       'Foot', 'Foot', 'Foot', 'Foot', 'Foot', 'Foot', 'Foot', 'Foot',\n",
       "       'Foot', 'Foot', 'Foot', 'Foot', 'Foot', 'Foot', 'Foot', 'Foot',\n",
       "       'Foot', 'Foot', 'Foot', 'Foot', 'Foot', 'Foot', 'Foot', 'Foot',\n",
       "       'Foot', 'Foot', 'Foot', 'Foot', 'Foot', 'Foot', 'Foot', 'Foot',\n",
       "       'Foot', 'Foot', 'Foot', 'Foot', 'Foot', 'Foot', 'Foot', 'Foot',\n",
       "       'Foot', 'Foot', 'Foot', 'Foot', 'Foot', 'Foot', 'Foot', 'Foot',\n",
       "       'Foot', 'Foot', 'Foot', 'Foot', 'Foot', 'Foot', 'Foot', 'Foot',\n",
       "       'Foot', 'Foot', 'Foot', 'Foot', 'Foot', 'Foot', 'Foot', 'Foot',\n",
       "       'Foot', 'Foot', 'Foot', 'Foot', 'Foot', 'Foot', 'Foot', 'Foot',\n",
       "       'Foot', 'Foot', 'Foot', 'Foot', 'Foot', 'Foot', 'Foot', 'Foot',\n",
       "       'Foot', 'Foot', 'Foot', 'Foot', 'Foot', 'Foot', 'Foot', 'Foot',\n",
       "       'Foot', 'Foot', 'Foot', 'Foot', 'Foot', 'Foot', 'Foot', 'Foot',\n",
       "       'Foot', 'Foot', 'Foot', 'Foot', 'Foot', 'Foot', 'Foot', 'Foot',\n",
       "       'Foot', 'Foot', 'Foot', 'Foot', 'Foot', 'Foot', 'Foot', 'Foot',\n",
       "       'Foot', 'Foot', 'Foot', 'Foot', 'Foot', 'Foot', 'Foot', 'Foot',\n",
       "       'Foot', 'Foot', 'Foot', 'Foot', 'Foot', 'Foot', 'Foot', 'Foot',\n",
       "       'Foot', 'Foot', 'Foot', 'Foot', 'Foot', 'Foot', 'Foot', 'Foot',\n",
       "       'Foot', 'Foot', 'Foot', 'Foot', 'Foot', 'Foot', 'Foot', 'Foot',\n",
       "       'Foot', 'Foot', 'Foot', 'Foot', 'Foot', 'Foot', 'Foot', 'Foot',\n",
       "       'Foot', 'Foot', 'Foot', 'Foot', 'Foot', 'Foot', 'Foot', 'Foot',\n",
       "       'Foot', 'Foot', 'Foot', 'Foot', 'Foot', 'Foot', 'Foot', 'Foot',\n",
       "       'Foot', 'Foot', 'Foot', 'Foot', 'Foot', 'Foot', 'Foot', 'Foot',\n",
       "       'Foot', 'Foot', 'Foot', 'Foot', 'Foot', 'Foot', 'Foot', 'Foot',\n",
       "       'Foot', 'Foot', 'Foot', 'Foot', 'Foot', 'Foot', 'Foot', 'Foot',\n",
       "       'Foot', 'Foot', 'Foot'], dtype='<U9')"
      ]
     },
     "execution_count": 515,
     "metadata": {},
     "output_type": "execute_result"
    }
   ],
   "source": [
    "fit_models['rc'].predict(X_test)\n"
   ]
  },
  {
   "cell_type": "code",
   "execution_count": 516,
   "metadata": {},
   "outputs": [
    {
     "name": "stdout",
     "output_type": "stream",
     "text": [
      "Confusion Matrix:\n",
      "[[492   7]\n",
      " [  0   0]]\n",
      "\n",
      "Classification Report:\n",
      "              precision    recall  f1-score   support\n",
      "\n",
      "        Foot       1.00      0.99      0.99       499\n",
      "   Incorrect       0.00      0.00      0.00         0\n",
      "\n",
      "    accuracy                           0.99       499\n",
      "   macro avg       0.50      0.49      0.50       499\n",
      "weighted avg       1.00      0.99      0.99       499\n",
      "\n"
     ]
    },
    {
     "name": "stderr",
     "output_type": "stream",
     "text": [
      "C:\\Users\\acer\\AppData\\Local\\Packages\\PythonSoftwareFoundation.Python.3.9_qbz5n2kfra8p0\\LocalCache\\local-packages\\Python39\\site-packages\\sklearn\\metrics\\_classification.py:1245: UndefinedMetricWarning: Recall and F-score are ill-defined and being set to 0.0 in labels with no true samples. Use `zero_division` parameter to control this behavior.\n",
      "  _warn_prf(average, modifier, msg_start, len(result))\n",
      "C:\\Users\\acer\\AppData\\Local\\Packages\\PythonSoftwareFoundation.Python.3.9_qbz5n2kfra8p0\\LocalCache\\local-packages\\Python39\\site-packages\\sklearn\\metrics\\_classification.py:1245: UndefinedMetricWarning: Recall and F-score are ill-defined and being set to 0.0 in labels with no true samples. Use `zero_division` parameter to control this behavior.\n",
      "  _warn_prf(average, modifier, msg_start, len(result))\n",
      "C:\\Users\\acer\\AppData\\Local\\Packages\\PythonSoftwareFoundation.Python.3.9_qbz5n2kfra8p0\\LocalCache\\local-packages\\Python39\\site-packages\\sklearn\\metrics\\_classification.py:1245: UndefinedMetricWarning: Recall and F-score are ill-defined and being set to 0.0 in labels with no true samples. Use `zero_division` parameter to control this behavior.\n",
      "  _warn_prf(average, modifier, msg_start, len(result))\n"
     ]
    }
   ],
   "source": [
    "# Evaluation Metrics\n",
    "from sklearn.metrics import classification_report, confusion_matrix\n",
    "\n",
    "# Create empty lists to store true labels and predicted labels\n",
    "true_labels = []\n",
    "pred_labels = []\n",
    "\n",
    "# Loop through the test set and make predictions\n",
    "for i in range(X_test.shape[0]):\n",
    "    # Make prediction\n",
    "    pred = model.predict(X_test.iloc[[i]])\n",
    "    # Append true and predicted labels to lists\n",
    "    true_labels.append(y_test.iloc[i])\n",
    "    pred_labels.append(pred[0])\n",
    "\n",
    "# Print confusion matrix and classification report\n",
    "print(\"Confusion Matrix:\")\n",
    "print(confusion_matrix(true_labels, pred_labels))\n",
    "print()\n",
    "print(\"Classification Report:\")\n",
    "print(classification_report(true_labels, pred_labels))\n"
   ]
  },
  {
   "cell_type": "code",
   "execution_count": 495,
   "metadata": {},
   "outputs": [
    {
     "ename": "IndexError",
     "evalue": "index 1 is out of bounds for axis 1 with size 1",
     "output_type": "error",
     "traceback": [
      "\u001b[1;31m---------------------------------------------------------------------------\u001b[0m",
      "\u001b[1;31mIndexError\u001b[0m                                Traceback (most recent call last)",
      "Cell \u001b[1;32mIn[495], line 18\u001b[0m\n\u001b[0;32m     16\u001b[0m roc_auc \u001b[39m=\u001b[39m \u001b[39mdict\u001b[39m()\n\u001b[0;32m     17\u001b[0m \u001b[39mfor\u001b[39;00m i \u001b[39min\u001b[39;00m \u001b[39mrange\u001b[39m(n_classes):\n\u001b[1;32m---> 18\u001b[0m     fpr[i], tpr[i], _ \u001b[39m=\u001b[39m roc_curve(y_test_bin[:, i], y_pred_prob[:, i])\n\u001b[0;32m     19\u001b[0m     roc_auc[i] \u001b[39m=\u001b[39m auc(fpr[i], tpr[i])\n\u001b[0;32m     21\u001b[0m \u001b[39m# Compute micro-average ROC curve and AUC\u001b[39;00m\n",
      "\u001b[1;31mIndexError\u001b[0m: index 1 is out of bounds for axis 1 with size 1"
     ]
    }
   ],
   "source": [
    "from sklearn.metrics import roc_curve, auc\n",
    "import matplotlib.pyplot as plt\n",
    "from itertools import cycle\n",
    "from sklearn.preprocessing import LabelBinarizer\n",
    "\n",
    "lb = LabelBinarizer()\n",
    "y_test_bin = lb.fit_transform(y_test)\n",
    "\n",
    "# Compute predicted probabilities for each class\n",
    "y_pred_prob = model.predict_proba(X_test)\n",
    "\n",
    "# Compute ROC curve and AUC for each class\n",
    "n_classes = len(model.classes_)\n",
    "fpr = dict()\n",
    "tpr = dict()\n",
    "roc_auc = dict()\n",
    "for i in range(n_classes):\n",
    "    fpr[i], tpr[i], _ = roc_curve(y_test_bin[:, i], y_pred_prob[:, i])\n",
    "    roc_auc[i] = auc(fpr[i], tpr[i])\n",
    "\n",
    "# Compute micro-average ROC curve and AUC\n",
    "fpr[\"micro\"], tpr[\"micro\"], _ = roc_curve(y_test_bin.ravel(), y_pred_prob.ravel())\n",
    "roc_auc[\"micro\"] = auc(fpr[\"micro\"], tpr[\"micro\"])\n",
    "\n",
    "# Plot ROC curve for each class\n",
    "plt.figure()\n",
    "lw = 2\n",
    "colors = cycle(['blue', 'red', 'green', 'purple', 'orange', 'brown', 'pink', 'gray', 'olive', 'cyan'])\n",
    "for i, color in zip(range(n_classes), colors):\n",
    "    plt.plot(fpr[i], tpr[i], color=color, lw=lw,\n",
    "             label='ROC curve of class {0} (area = {1:0.2f})'\n",
    "             ''.format(i, roc_auc[i]))\n",
    "\n",
    "# Plot micro-average ROC curve\n",
    "plt.plot(fpr[\"micro\"], tpr[\"micro\"],\n",
    "         label='micro-average ROC curve (area = {0:0.2f})'\n",
    "         ''.format(roc_auc[\"micro\"]),\n",
    "         color='deeppink', linestyle='--', linewidth=4)\n",
    "\n",
    "# Plot chance line\n",
    "plt.plot([0, 1], [0, 1], 'k--', lw=lw)\n",
    "plt.xlim([0.0, 1.0])\n",
    "plt.ylim([0.0, 1.05])\n",
    "plt.xlabel('False Positive Rate')\n",
    "plt.ylabel('True Positive Rate')\n",
    "plt.title('Receiver operating characteristic (ROC) Curve')\n",
    "plt.legend(loc=\"lower right\")\n",
    "plt.show()\n"
   ]
  },
  {
   "cell_type": "code",
   "execution_count": 517,
   "metadata": {},
   "outputs": [],
   "source": [
    "with open('Foot.pkl', 'wb') as f:\n",
    "    pickle.dump(fit_models['rf'], f)"
   ]
  },
  {
   "attachments": {},
   "cell_type": "markdown",
   "metadata": {},
   "source": [
    "# 4. Make Detections with Model"
   ]
  },
  {
   "cell_type": "code",
   "execution_count": 518,
   "metadata": {},
   "outputs": [],
   "source": [
    "with open('Foot.pkl', 'rb') as f:\n",
    "    model = pickle.load(f)"
   ]
  },
  {
   "cell_type": "code",
   "execution_count": 529,
   "metadata": {},
   "outputs": [],
   "source": [
    "# \n",
    "correctColor = (0, 256, 0)\n",
    "inCorrectColor = (0, 0, 256)\n",
    "\n",
    "directory = \"images/Foot_engagement\"\n",
    "with mp_holistic.Holistic(min_detection_confidence=0.5, min_tracking_confidence=0.5) as holistic:\n",
    "    \n",
    "   for filename in os.listdir(directory):\n",
    "        if filename.endswith(\".jpg\") or filename.endswith(\".png\") or filename.endswith(\".JPG\"):\n",
    "            # Load the image\n",
    "            image = cv2.imread(os.path.join(directory, filename))\n",
    "\n",
    "            # Recolor Feed\n",
    "            image = cv2.cvtColor(image, cv2.COLOR_BGR2RGB)\n",
    "            image.flags.writeable = False        \n",
    "\n",
    "            # Make Detections\n",
    "            results = holistic.process(image)\n",
    "            # print(results.face_landmarks)\n",
    "\n",
    "            # face_landmarks, pose_landmarks, left_hand_landmarks, right_hand_landmarks\n",
    "\n",
    "            # Recolor image back to BGR for rendering\n",
    "            image.flags.writeable = True   \n",
    "            image = cv2.cvtColor(image, cv2.COLOR_RGB2BGR) \n",
    "\n",
    "        try:\n",
    "            # Extract Pose landmarks\n",
    "            pose = results.pose_landmarks.landmark\n",
    "            pose_row = list(np.array([[landmark.x, landmark.y, landmark.z, landmark.visibility] for landmark in pose]).flatten())\n",
    "                       \n",
    "            # Concate rows\n",
    "            row = pose_row\n",
    "    \n",
    "            # Make Detections\n",
    "            X = pd.DataFrame([row])\n",
    "            body_language_class = model.predict(X)[0]\n",
    "            body_language_prob = model.predict_proba(X)[0][1]\n",
    "        \n",
    "            if body_language_prob < 0.50 or body_language_class == \"Incorrect\" :\n",
    "\n",
    "                color = inCorrectColor\n",
    "              \n",
    "            else:\n",
    "                color = correctColor\n",
    "                \n",
    "            if color == inCorrectColor:\n",
    "\n",
    "                mp_drawing.draw_landmarks(image, results.pose_landmarks, mp_holistic.POSE_CONNECTIONS, \n",
    "                                    mp_drawing.DrawingSpec(color=color, thickness=2, circle_radius=4),\n",
    "                                    mp_drawing.DrawingSpec(color=color, thickness=2, circle_radius=2)\n",
    "                                    )\n",
    "                \n",
    "            else:\n",
    "                mp_drawing.draw_landmarks(image, results.pose_landmarks, mp_holistic.POSE_CONNECTIONS, \n",
    "                                    mp_drawing.DrawingSpec(color=color, thickness=2, circle_radius=4),\n",
    "                                    mp_drawing.DrawingSpec(color=color, thickness=2, circle_radius=2)\n",
    "                                    )\n",
    "            \n",
    "\n",
    "            \n",
    "\n",
    "            cv2.rectangle(image, (0,0), (250, 60), (0, 250, 0), -1) #kone thiyana box eka\n",
    "                \n",
    "                # Display Class\n",
    "            cv2.putText(image, 'CLASS', (95,12), cv2.FONT_HERSHEY_SIMPLEX, 0.5, (0, 0, 0), 1, cv2.LINE_AA)\n",
    "            cv2.putText(image, body_language_class.split(' ')[0], (90,40), cv2.FONT_HERSHEY_SIMPLEX, 1, (255, 255, 255), 2, cv2.LINE_AA)\n",
    "                        \n",
    "                # Display Probability\n",
    "            cv2.putText(image, 'PROB', (15,12), cv2.FONT_HERSHEY_SIMPLEX, 0.5, (0, 0, 0), 1, cv2.LINE_AA)\n",
    "            cv2.putText(image, str(round(body_language_prob,2)), (10,40), cv2.FONT_HERSHEY_SIMPLEX, 1, (255, 255, 255), 2, cv2.LINE_AA)\n",
    "            \n",
    "        except:\n",
    "            pass\n",
    "                        \n",
    "        cv2.imshow('Raw Webcam Feed', image)\n",
    "\n",
    "        if cv2.waitKey(10) & 0xFF == ord('q' or 'Q'):\n",
    "            break\n",
    "\n",
    "cv2.destroyAllWindows()"
   ]
  },
  {
   "cell_type": "code",
   "execution_count": 520,
   "metadata": {},
   "outputs": [],
   "source": [
    "cap = cv2.VideoCapture(0)\n",
    "correctColor = (0, 256, 0)\n",
    "inCorrectColor = (0, 0, 256)\n",
    "# Initiate holistic model\n",
    "with mp_holistic.Holistic(min_detection_confidence=0.5, min_tracking_confidence=0.5) as holistic:\n",
    "    \n",
    "    while cap.isOpened():\n",
    "        ret, frame = cap.read()\n",
    "        \n",
    "        # Recolor Feed\n",
    "        image = cv2.cvtColor(frame, cv2.COLOR_BGR2RGB)\n",
    "        image.flags.writeable = False        \n",
    "        \n",
    "        # Make Detections\n",
    "        results = holistic.process(image)\n",
    "        # print(results.face_landmarks)\n",
    "        \n",
    "        # face_landmarks, pose_landmarks, left_hand_landmarks, right_hand_landmarks\n",
    "        \n",
    "        # Recolor image back to BGR for rendering\n",
    "        image.flags.writeable = True   \n",
    "        image = cv2.cvtColor(image, cv2.COLOR_RGB2BGR)\n",
    "        \n",
    "       \n",
    "\n",
    "        # # 4. Pose Detections\n",
    "        # mp_drawing.draw_landmarks(image, results.pose_landmarks, mp_holistic.POSE_CONNECTIONS, \n",
    "        #                          mp_drawing.DrawingSpec(color=(245,117,66), thickness=2, circle_radius=4),\n",
    "        #                          mp_drawing.DrawingSpec(color=(245,66,230), thickness=2, circle_radius=2)\n",
    "        #                          )\n",
    "        # Export coordinates\n",
    "        try:\n",
    "            # Extract Pose landmarks\n",
    "            pose = results.pose_landmarks.landmark\n",
    "            pose_row = list(np.array([[landmark.x, landmark.y, landmark.z, landmark.visibility] for landmark in pose]).flatten())\n",
    "                       \n",
    "            # Concate rows\n",
    "            row = pose_row\n",
    "    \n",
    "            # Make Detections\n",
    "            X = pd.DataFrame([row])\n",
    "            body_language_class = model.predict(X)[0]\n",
    "            body_language_prob = model.predict_proba(X)[0][1]\n",
    "        \n",
    "            if body_language_prob < 0.45 or body_language_class == \"Incorrect\" :\n",
    "\n",
    "                color = inCorrectColor\n",
    "              \n",
    "            else:\n",
    "                color = correctColor\n",
    "                \n",
    "            if color == inCorrectColor:\n",
    "\n",
    "                mp_drawing.draw_landmarks(image, results.pose_landmarks, mp_holistic.POSE_CONNECTIONS, \n",
    "                                    mp_drawing.DrawingSpec(color=color, thickness=2, circle_radius=4),\n",
    "                                    mp_drawing.DrawingSpec(color=color, thickness=2, circle_radius=2)\n",
    "                                    )\n",
    "                \n",
    "            else:\n",
    "                mp_drawing.draw_landmarks(image, results.pose_landmarks, mp_holistic.POSE_CONNECTIONS, \n",
    "                                    mp_drawing.DrawingSpec(color=color, thickness=2, circle_radius=4),\n",
    "                                    mp_drawing.DrawingSpec(color=color, thickness=2, circle_radius=2)\n",
    "                                    )\n",
    "            \n",
    "\n",
    "            \n",
    "\n",
    "            cv2.rectangle(image, (0,0), (250, 60), (0, 250, 0), -1) #kone thiyana box eka\n",
    "                \n",
    "                # Display Class\n",
    "            cv2.putText(image, 'CLASS', (95,12), cv2.FONT_HERSHEY_SIMPLEX, 0.5, (0, 0, 0), 1, cv2.LINE_AA)\n",
    "            cv2.putText(image, body_language_class.split(' ')[0], (90,40), cv2.FONT_HERSHEY_SIMPLEX, 1, (255, 255, 255), 2, cv2.LINE_AA)\n",
    "                        \n",
    "                # Display Probability\n",
    "            cv2.putText(image, 'PROB', (15,12), cv2.FONT_HERSHEY_SIMPLEX, 0.5, (0, 0, 0), 1, cv2.LINE_AA)\n",
    "            cv2.putText(image, str(round(body_language_prob,2)), (10,40), cv2.FONT_HERSHEY_SIMPLEX, 1, (255, 255, 255), 2, cv2.LINE_AA)\n",
    "            \n",
    "        except:\n",
    "            pass\n",
    "                        \n",
    "        cv2.imshow('Raw Webcam Feed', image)\n",
    "\n",
    "        if cv2.waitKey(10) & 0xFF == ord('q' or 'Q'):\n",
    "            break\n",
    "\n",
    "cap.release()\n",
    "cv2.destroyAllWindows()"
   ]
  }
 ],
 "metadata": {
  "kernelspec": {
   "display_name": "Python 3",
   "language": "python",
   "name": "python3"
  },
  "language_info": {
   "codemirror_mode": {
    "name": "ipython",
    "version": 3
   },
   "file_extension": ".py",
   "mimetype": "text/x-python",
   "name": "python",
   "nbconvert_exporter": "python",
   "pygments_lexer": "ipython3",
   "version": "3.9.13"
  }
 },
 "nbformat": 4,
 "nbformat_minor": 2
}
